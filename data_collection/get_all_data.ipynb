{
 "cells": [
  {
   "cell_type": "code",
   "execution_count": 15,
   "metadata": {
    "collapsed": true
   },
   "outputs": [],
   "source": [
    "#imports and authentications\n",
    "\n",
    "import spotipy\n",
    "import pandas as pd\n",
    "import datetime\n",
    "import time\n",
    "import os\n",
    "from json.decoder import JSONDecodeError\n",
    "import numpy as np\n",
    "import pandas as pd\n",
    "\n",
    "# music api imports\n",
    "import pygn\n",
    "import traceback\n",
    "import spotipy\n",
    "import spotipy.util as util\n",
    "\n",
    "import requests\n",
    "import re\n",
    "from time import sleep\n",
    "import pickle\n",
    "\n",
    "import matplotlib.pyplot as plt\n",
    "#import seaborn as sns\n",
    "%matplotlib inline\n",
    "\n",
    "scope = 'user-library-read'\n",
    "username = \"karishma.gulati\"\n",
    "client_id=\"afe7c584ab704e5487b31b52a9d0009c\"\n",
    "client_secret=\"fa08966efd794dbb88a484e9a54b11e1\"\n",
    "redirect_uri=\"http://localhost:8888/\"\n",
    "\n",
    "# token = util.prompt_for_user_token(<INSERT SPOTIFY USERNAME>,\n",
    "#                                   client_id=<INSERT SPOTIFY CLIENT ID>,\n",
    "#                                   client_secret=<INSERT SPOTIFY CLIENT SECRET>,\n",
    "#                                   redirect_uri=<INSERT REDIRECT URI>)\n",
    "\n",
    "try:\n",
    "    token = util.prompt_for_user_token(username, scope, client_id, client_secret, redirect_uri)\n",
    "except (AttributeError, JSONDecodeError):\n",
    "    os.remove(f\".cache-{username}\")\n",
    "    token = util.prompt_for_user_token(username, scope, client_id, client_secret, redirect_uri)\n",
    "\n",
    "spotify = spotipy.Spotify(auth=token)"
   ]
  },
  {
   "cell_type": "code",
   "execution_count": 16,
   "metadata": {
    "collapsed": true
   },
   "outputs": [],
   "source": [
    "#defining functions\n",
    "\n",
    "# get categories\n",
    "def get_categories():\n",
    "    category_ids = []\n",
    "    for i in spotify.categories(limit = 50)['categories']['items']:\n",
    "        category_ids.append(i.get('id'))\n",
    "    return category_ids\n",
    "\n",
    "# get playlists from list of categories\n",
    "def get_playlists(categories):\n",
    "    playlist_ids = []\n",
    "    for i in categories:\n",
    "        for j in spotify.category_playlists(i, limit = 50)['playlists']['items']:\n",
    "            playlist_ids.append(j.get('id'))\n",
    "    return playlist_ids\n",
    "\n",
    "# get song ids from list of playlist ids\n",
    "def get_songs(playlists):\n",
    "    song_ids = []\n",
    "    count = 0\n",
    "    for i in playlists:\n",
    "        try:\n",
    "            for j in spotify.user_playlist('spotify', i)['tracks']['items']:\n",
    "                song_ids.append([j['track']['id'], j['track']['name'], j['track']['artists'][0]['name']])\n",
    "        except:\n",
    "            pass\n",
    "        time.sleep(.1)\n",
    "    return song_ids\n",
    "\n",
    "def chunks(l, n):\n",
    "    n = max(1, n)\n",
    "    return [l[i:i+n] for i in range(0, len(l), n)]\n",
    "\n",
    "def complete_audio_features(songs_ids):\n",
    "    features_list = []\n",
    "    for j in chunks(list(songs_ids),50):\n",
    "        features_add = spotify.audio_features(tracks=j)\n",
    "        features_list.extend(features_add)\n",
    "    return features_list\n",
    "\n",
    "def make_audio_features_df(audio_features):\n",
    "    audio_features_df = pd.DataFrame(columns = audio_features[0])\n",
    "    for i in range(0,len(audio_features)):\n",
    "        audio_features_df = audio_features_df.append(audio_features[i], ignore_index=True)\n",
    "    return audio_features_df"
   ]
  },
  {
   "cell_type": "code",
   "execution_count": 17,
   "metadata": {
    "collapsed": true
   },
   "outputs": [],
   "source": [
    "# Getting Song Information for these song IDs"
   ]
  },
  {
   "cell_type": "code",
   "execution_count": 18,
   "metadata": {},
   "outputs": [
    {
     "name": "stdout",
     "output_type": "stream",
     "text": [
      "The spotify token has been fetched!\n",
      "\n"
     ]
    },
    {
     "data": {
      "text/html": [
       "<div>\n",
       "<style>\n",
       "    .dataframe thead tr:only-child th {\n",
       "        text-align: right;\n",
       "    }\n",
       "\n",
       "    .dataframe thead th {\n",
       "        text-align: left;\n",
       "    }\n",
       "\n",
       "    .dataframe tbody tr th {\n",
       "        vertical-align: top;\n",
       "    }\n",
       "</style>\n",
       "<table border=\"1\" class=\"dataframe\">\n",
       "  <thead>\n",
       "    <tr style=\"text-align: right;\">\n",
       "      <th></th>\n",
       "      <th>0</th>\n",
       "      <th>1</th>\n",
       "      <th>2</th>\n",
       "    </tr>\n",
       "  </thead>\n",
       "  <tbody>\n",
       "    <tr>\n",
       "      <th>0</th>\n",
       "      <td>3YU6vJbjYUG0tiJyXf9x5V</td>\n",
       "      <td>Him &amp; I (with Halsey)</td>\n",
       "      <td>G-Eazy</td>\n",
       "    </tr>\n",
       "    <tr>\n",
       "      <th>1</th>\n",
       "      <td>1bhUWB0zJMIKr9yVPrkEuI</td>\n",
       "      <td>Perfect Duet (Ed Sheeran &amp; Beyoncé)</td>\n",
       "      <td>Ed Sheeran</td>\n",
       "    </tr>\n",
       "    <tr>\n",
       "      <th>2</th>\n",
       "      <td>0OI7AFifLSoGzpb8bdBLLV</td>\n",
       "      <td>Home (with Machine Gun Kelly, X Ambassadors &amp; ...</td>\n",
       "      <td>Machine Gun Kelly</td>\n",
       "    </tr>\n",
       "    <tr>\n",
       "      <th>3</th>\n",
       "      <td>2amzBJRBPOGszBem4FedfE</td>\n",
       "      <td>Let You Down</td>\n",
       "      <td>NF</td>\n",
       "    </tr>\n",
       "    <tr>\n",
       "      <th>4</th>\n",
       "      <td>42CeaId2XNlxugDvyqHfDf</td>\n",
       "      <td>Candy Paint</td>\n",
       "      <td>Post Malone</td>\n",
       "    </tr>\n",
       "    <tr>\n",
       "      <th>5</th>\n",
       "      <td>2xmrfQpmS2iJExTlklLoAL</td>\n",
       "      <td>I Miss You (feat. Julia Michaels)</td>\n",
       "      <td>Clean Bandit</td>\n",
       "    </tr>\n",
       "    <tr>\n",
       "      <th>6</th>\n",
       "      <td>0tBbt8CrmxbjRP0pueQkyU</td>\n",
       "      <td>Wolves</td>\n",
       "      <td>Selena Gomez</td>\n",
       "    </tr>\n",
       "    <tr>\n",
       "      <th>7</th>\n",
       "      <td>7eFmN6wnsb7WowRKAqRFfs</td>\n",
       "      <td>Wait</td>\n",
       "      <td>Maroon 5</td>\n",
       "    </tr>\n",
       "    <tr>\n",
       "      <th>8</th>\n",
       "      <td>2z4pcBLQXF2BXKFvd0BuB6</td>\n",
       "      <td>Tip Toe (feat. French Montana)</td>\n",
       "      <td>Jason Derulo</td>\n",
       "    </tr>\n",
       "    <tr>\n",
       "      <th>9</th>\n",
       "      <td>3al2hpm92xE0pBalqWQHdD</td>\n",
       "      <td>Betrayed</td>\n",
       "      <td>Lil Xan</td>\n",
       "    </tr>\n",
       "  </tbody>\n",
       "</table>\n",
       "</div>"
      ],
      "text/plain": [
       "                        0                                                  1  \\\n",
       "0  3YU6vJbjYUG0tiJyXf9x5V                              Him & I (with Halsey)   \n",
       "1  1bhUWB0zJMIKr9yVPrkEuI                Perfect Duet (Ed Sheeran & Beyoncé)   \n",
       "2  0OI7AFifLSoGzpb8bdBLLV  Home (with Machine Gun Kelly, X Ambassadors & ...   \n",
       "3  2amzBJRBPOGszBem4FedfE                                       Let You Down   \n",
       "4  42CeaId2XNlxugDvyqHfDf                                        Candy Paint   \n",
       "5  2xmrfQpmS2iJExTlklLoAL                  I Miss You (feat. Julia Michaels)   \n",
       "6  0tBbt8CrmxbjRP0pueQkyU                                             Wolves   \n",
       "7  7eFmN6wnsb7WowRKAqRFfs                                               Wait   \n",
       "8  2z4pcBLQXF2BXKFvd0BuB6                     Tip Toe (feat. French Montana)   \n",
       "9  3al2hpm92xE0pBalqWQHdD                                           Betrayed   \n",
       "\n",
       "                   2  \n",
       "0             G-Eazy  \n",
       "1         Ed Sheeran  \n",
       "2  Machine Gun Kelly  \n",
       "3                 NF  \n",
       "4        Post Malone  \n",
       "5       Clean Bandit  \n",
       "6       Selena Gomez  \n",
       "7           Maroon 5  \n",
       "8       Jason Derulo  \n",
       "9            Lil Xan  "
      ]
     },
     "execution_count": 18,
     "metadata": {},
     "output_type": "execute_result"
    }
   ],
   "source": [
    "print(\"The spotify token has been fetched!\\n\")\n",
    "categories = get_categories()\n",
    "playlists = get_playlists(categories)\n",
    "songs = get_songs(playlists)\n",
    "songs_df = pd.DataFrame(songs)\n",
    "songs_df.head(10)"
   ]
  },
  {
   "cell_type": "code",
   "execution_count": 19,
   "metadata": {},
   "outputs": [
    {
     "name": "stdout",
     "output_type": "stream",
     "text": [
      "Number of unique songs:  36016\n"
     ]
    }
   ],
   "source": [
    "songs_df.columns = ['id', 'name', 'artist']\n",
    "songs_df = songs_df.drop_duplicates()\n",
    "print(\"Number of unique songs: \", len(songs_df.index))"
   ]
  },
  {
   "cell_type": "code",
   "execution_count": null,
   "metadata": {},
   "outputs": [],
   "source": [
    "audio_features = complete_audio_features(songs_df['id'])\n",
    "audio_features_df = make_audio_features_df(audio_features)\n",
    "audio_features_df = audio_features_df.drop_duplicates()\n",
    "print(\"Number of unique songs post receiving audio features: \", len(audio_features_df.index))"
   ]
  },
  {
   "cell_type": "code",
   "execution_count": null,
   "metadata": {
    "collapsed": true
   },
   "outputs": [],
   "source": [
    "songs_final_df = songs_df.merge(audio_features_df, how='inner', on='id')\n",
    "del songs_final_df['track_href']\n",
    "del songs_final_df['analysis_url']\n",
    "del songs_final_df['uri']\n",
    "del songs_final_df['type']\n",
    "\n",
    "songs_final_df.head(10)"
   ]
  },
  {
   "cell_type": "code",
   "execution_count": null,
   "metadata": {
    "collapsed": true
   },
   "outputs": [],
   "source": [
    "print(\"Final song list has songs: \", len(songs_final_df.index))"
   ]
  },
  {
   "cell_type": "code",
   "execution_count": null,
   "metadata": {
    "collapsed": true
   },
   "outputs": [],
   "source": [
    "#songs_final_df.to_csv(\"all_songs.csv\", index=False)"
   ]
  },
  {
   "cell_type": "code",
   "execution_count": null,
   "metadata": {
    "collapsed": true
   },
   "outputs": [],
   "source": [
    "#Merge all songs with features from Gracenote"
   ]
  },
  {
   "cell_type": "code",
   "execution_count": null,
   "metadata": {
    "collapsed": true
   },
   "outputs": [],
   "source": [
    "# timing function\n",
    "def timefunc(f):\n",
    "    def f_timer(*args, **kwargs):\n",
    "        start = time.time()\n",
    "        result = f(*args, **kwargs)\n",
    "        end = time.time()\n",
    "        print(f.__name__, 'took', end - start, 'seconds')\n",
    "        return result\n",
    "    return f_timer"
   ]
  },
  {
   "cell_type": "code",
   "execution_count": null,
   "metadata": {
    "collapsed": true
   },
   "outputs": [],
   "source": [
    "clientid='1143049347-DB6E8C78665AF7AE447BE4903B6F2BF5'\n",
    "userid = pygn.register(clientid)"
   ]
  },
  {
   "cell_type": "code",
   "execution_count": null,
   "metadata": {
    "collapsed": true
   },
   "outputs": [],
   "source": [
    "songs = pd.read_csv('all_songs.csv')\n",
    "songs.head(10)"
   ]
  },
  {
   "cell_type": "code",
   "execution_count": null,
   "metadata": {
    "collapsed": true
   },
   "outputs": [],
   "source": [
    "# Get track info from gracenote\n",
    "# NOTE: Gracenote API has built-in fuzzy matching to artist and track.\n",
    "from collections import defaultdict\n",
    "\n",
    "def get_gn_multiple(search, dictionary, item):\n",
    "    '''\n",
    "    Helper function to get multiple items within Gracenote record\n",
    "    '''\n",
    "    for i in search[item].items():\n",
    "        dictionary[item + '_' + i[0]] = i[1]['TEXT']\n",
    "\n",
    "def get_gn(artist, track):\n",
    "    '''\n",
    "    Gets artist and track information from Gracenote\n",
    "    '''\n",
    "    gn_dict = defaultdict(list)\n",
    "    gn_info = pygn.search(clientid, userid, artist=artist, track=track)\n",
    "    \n",
    "    print(artist,track)\n",
    "    print(gn_info)\n",
    "    gn_dict['gnid'] = gn_info['track_gnid']\n",
    "\n",
    "    # artist specific info\n",
    "    for a in ['artist_origin', 'artist_type', 'artist_era']:\n",
    "        get_gn_multiple(gn_info, gn_dict, a)\n",
    "    # track specific info\n",
    "    for s in ['genre', 'mood', 'tempo']: # can potentially drop 'tempo' since Spotify has already captured this\n",
    "        get_gn_multiple(gn_info, gn_dict, s)      \n",
    "    return dict(gn_dict)\n",
    "\n",
    "@timefunc\n",
    "def getDetailsFromGracenote(df):\n",
    "    d = {}\n",
    "    i = 0\n",
    "    for index, row in df.iterrows():\n",
    "        try:\n",
    "            x = get_gn(row['artist'], row['name'])\n",
    "            d[row['id']] = x\n",
    "        except:\n",
    "            print(row)\n",
    "            traceback.print_exc()\n",
    "            print(i)\n",
    "            i = i+1\n",
    "            if(i == 20):\n",
    "                sys.exit(1)\n",
    "    gn_df = pd.DataFrame(d).transpose().reset_index()\n",
    "    gn_df = gn_df.rename(columns = {'index' : 'id'})\n",
    "    return gn_df"
   ]
  },
  {
   "cell_type": "code",
   "execution_count": 18,
   "metadata": {},
   "outputs": [
    {
     "data": {
      "text/plain": [
       "5561"
      ]
     },
     "execution_count": 18,
     "metadata": {},
     "output_type": "execute_result"
    }
   ],
   "source": [
    "final_gn_df = getDetailsFromGracenote(songs)\n",
    "final_gn_df\n",
    "\n",
    "songs_final_df = songs.merge(final_gn_df, how='inner', on='id')\n",
    "print(\"Final song list without eliminating duplicates: \", len(songs_final_df.index))\n",
    "\n",
    "songs_final_df = songs_final_df.drop_duplicates()\n",
    "print(\"Final song list after eliminating duplicates: \", len(songs_final_df.index))\n",
    "\n",
    "#songs_final_df.to_csv(\"all_songs_with_labels.csv\", index=False)"
   ]
  },
  {
   "cell_type": "code",
   "execution_count": 19,
   "metadata": {},
   "outputs": [
    {
     "name": "stdout",
     "output_type": "stream",
     "text": [
      "Songs without NaN label values 4510\n",
      "Songs without Other label values 4446\n"
     ]
    },
    {
     "name": "stderr",
     "output_type": "stream",
     "text": [
      "/Library/Frameworks/Python.framework/Versions/3.6/lib/python3.6/site-packages/ipykernel_launcher.py:36: SettingWithCopyWarning: \n",
      "A value is trying to be set on a copy of a slice from a DataFrame\n",
      "\n",
      "See the caveats in the documentation: http://pandas.pydata.org/pandas-docs/stable/indexing.html#indexing-view-versus-copy\n",
      "/Library/Frameworks/Python.framework/Versions/3.6/lib/python3.6/site-packages/ipykernel_launcher.py:37: SettingWithCopyWarning: \n",
      "A value is trying to be set on a copy of a slice from a DataFrame\n",
      "\n",
      "See the caveats in the documentation: http://pandas.pydata.org/pandas-docs/stable/indexing.html#indexing-view-versus-copy\n",
      "/Library/Frameworks/Python.framework/Versions/3.6/lib/python3.6/site-packages/ipykernel_launcher.py:38: SettingWithCopyWarning: \n",
      "A value is trying to be set on a copy of a slice from a DataFrame\n",
      "\n",
      "See the caveats in the documentation: http://pandas.pydata.org/pandas-docs/stable/indexing.html#indexing-view-versus-copy\n",
      "/Library/Frameworks/Python.framework/Versions/3.6/lib/python3.6/site-packages/ipykernel_launcher.py:39: SettingWithCopyWarning: \n",
      "A value is trying to be set on a copy of a slice from a DataFrame\n",
      "\n",
      "See the caveats in the documentation: http://pandas.pydata.org/pandas-docs/stable/indexing.html#indexing-view-versus-copy\n",
      "/Library/Frameworks/Python.framework/Versions/3.6/lib/python3.6/site-packages/ipykernel_launcher.py:40: SettingWithCopyWarning: \n",
      "A value is trying to be set on a copy of a slice from a DataFrame\n",
      "\n",
      "See the caveats in the documentation: http://pandas.pydata.org/pandas-docs/stable/indexing.html#indexing-view-versus-copy\n",
      "/Library/Frameworks/Python.framework/Versions/3.6/lib/python3.6/site-packages/ipykernel_launcher.py:41: SettingWithCopyWarning: \n",
      "A value is trying to be set on a copy of a slice from a DataFrame\n",
      "\n",
      "See the caveats in the documentation: http://pandas.pydata.org/pandas-docs/stable/indexing.html#indexing-view-versus-copy\n",
      "/Library/Frameworks/Python.framework/Versions/3.6/lib/python3.6/site-packages/ipykernel_launcher.py:42: SettingWithCopyWarning: \n",
      "A value is trying to be set on a copy of a slice from a DataFrame\n",
      "\n",
      "See the caveats in the documentation: http://pandas.pydata.org/pandas-docs/stable/indexing.html#indexing-view-versus-copy\n",
      "/Library/Frameworks/Python.framework/Versions/3.6/lib/python3.6/site-packages/ipykernel_launcher.py:43: SettingWithCopyWarning: \n",
      "A value is trying to be set on a copy of a slice from a DataFrame\n",
      "\n",
      "See the caveats in the documentation: http://pandas.pydata.org/pandas-docs/stable/indexing.html#indexing-view-versus-copy\n",
      "/Library/Frameworks/Python.framework/Versions/3.6/lib/python3.6/site-packages/ipykernel_launcher.py:44: SettingWithCopyWarning: \n",
      "A value is trying to be set on a copy of a slice from a DataFrame\n",
      "\n",
      "See the caveats in the documentation: http://pandas.pydata.org/pandas-docs/stable/indexing.html#indexing-view-versus-copy\n",
      "/Library/Frameworks/Python.framework/Versions/3.6/lib/python3.6/site-packages/ipykernel_launcher.py:45: SettingWithCopyWarning: \n",
      "A value is trying to be set on a copy of a slice from a DataFrame\n",
      "\n",
      "See the caveats in the documentation: http://pandas.pydata.org/pandas-docs/stable/indexing.html#indexing-view-versus-copy\n",
      "/Library/Frameworks/Python.framework/Versions/3.6/lib/python3.6/site-packages/ipykernel_launcher.py:46: SettingWithCopyWarning: \n",
      "A value is trying to be set on a copy of a slice from a DataFrame\n",
      "\n",
      "See the caveats in the documentation: http://pandas.pydata.org/pandas-docs/stable/indexing.html#indexing-view-versus-copy\n",
      "/Library/Frameworks/Python.framework/Versions/3.6/lib/python3.6/site-packages/ipykernel_launcher.py:47: SettingWithCopyWarning: \n",
      "A value is trying to be set on a copy of a slice from a DataFrame\n",
      "\n",
      "See the caveats in the documentation: http://pandas.pydata.org/pandas-docs/stable/indexing.html#indexing-view-versus-copy\n",
      "/Library/Frameworks/Python.framework/Versions/3.6/lib/python3.6/site-packages/ipykernel_launcher.py:48: SettingWithCopyWarning: \n",
      "A value is trying to be set on a copy of a slice from a DataFrame\n",
      "\n",
      "See the caveats in the documentation: http://pandas.pydata.org/pandas-docs/stable/indexing.html#indexing-view-versus-copy\n",
      "/Library/Frameworks/Python.framework/Versions/3.6/lib/python3.6/site-packages/ipykernel_launcher.py:49: SettingWithCopyWarning: \n",
      "A value is trying to be set on a copy of a slice from a DataFrame\n",
      "\n",
      "See the caveats in the documentation: http://pandas.pydata.org/pandas-docs/stable/indexing.html#indexing-view-versus-copy\n",
      "/Library/Frameworks/Python.framework/Versions/3.6/lib/python3.6/site-packages/ipykernel_launcher.py:50: SettingWithCopyWarning: \n",
      "A value is trying to be set on a copy of a slice from a DataFrame\n",
      "\n",
      "See the caveats in the documentation: http://pandas.pydata.org/pandas-docs/stable/indexing.html#indexing-view-versus-copy\n",
      "/Library/Frameworks/Python.framework/Versions/3.6/lib/python3.6/site-packages/ipykernel_launcher.py:51: SettingWithCopyWarning: \n",
      "A value is trying to be set on a copy of a slice from a DataFrame\n",
      "\n",
      "See the caveats in the documentation: http://pandas.pydata.org/pandas-docs/stable/indexing.html#indexing-view-versus-copy\n",
      "/Library/Frameworks/Python.framework/Versions/3.6/lib/python3.6/site-packages/ipykernel_launcher.py:52: SettingWithCopyWarning: \n",
      "A value is trying to be set on a copy of a slice from a DataFrame\n",
      "\n",
      "See the caveats in the documentation: http://pandas.pydata.org/pandas-docs/stable/indexing.html#indexing-view-versus-copy\n",
      "/Library/Frameworks/Python.framework/Versions/3.6/lib/python3.6/site-packages/ipykernel_launcher.py:53: SettingWithCopyWarning: \n",
      "A value is trying to be set on a copy of a slice from a DataFrame\n",
      "\n",
      "See the caveats in the documentation: http://pandas.pydata.org/pandas-docs/stable/indexing.html#indexing-view-versus-copy\n",
      "/Library/Frameworks/Python.framework/Versions/3.6/lib/python3.6/site-packages/ipykernel_launcher.py:54: SettingWithCopyWarning: \n",
      "A value is trying to be set on a copy of a slice from a DataFrame\n",
      "\n",
      "See the caveats in the documentation: http://pandas.pydata.org/pandas-docs/stable/indexing.html#indexing-view-versus-copy\n",
      "/Library/Frameworks/Python.framework/Versions/3.6/lib/python3.6/site-packages/ipykernel_launcher.py:55: SettingWithCopyWarning: \n",
      "A value is trying to be set on a copy of a slice from a DataFrame\n",
      "\n",
      "See the caveats in the documentation: http://pandas.pydata.org/pandas-docs/stable/indexing.html#indexing-view-versus-copy\n",
      "/Library/Frameworks/Python.framework/Versions/3.6/lib/python3.6/site-packages/ipykernel_launcher.py:56: SettingWithCopyWarning: \n",
      "A value is trying to be set on a copy of a slice from a DataFrame\n",
      "\n",
      "See the caveats in the documentation: http://pandas.pydata.org/pandas-docs/stable/indexing.html#indexing-view-versus-copy\n",
      "/Library/Frameworks/Python.framework/Versions/3.6/lib/python3.6/site-packages/ipykernel_launcher.py:57: SettingWithCopyWarning: \n",
      "A value is trying to be set on a copy of a slice from a DataFrame\n",
      "\n",
      "See the caveats in the documentation: http://pandas.pydata.org/pandas-docs/stable/indexing.html#indexing-view-versus-copy\n",
      "/Library/Frameworks/Python.framework/Versions/3.6/lib/python3.6/site-packages/ipykernel_launcher.py:58: SettingWithCopyWarning: \n",
      "A value is trying to be set on a copy of a slice from a DataFrame\n",
      "\n",
      "See the caveats in the documentation: http://pandas.pydata.org/pandas-docs/stable/indexing.html#indexing-view-versus-copy\n",
      "/Library/Frameworks/Python.framework/Versions/3.6/lib/python3.6/site-packages/ipykernel_launcher.py:59: SettingWithCopyWarning: \n",
      "A value is trying to be set on a copy of a slice from a DataFrame\n",
      "\n",
      "See the caveats in the documentation: http://pandas.pydata.org/pandas-docs/stable/indexing.html#indexing-view-versus-copy\n"
     ]
    },
    {
     "data": {
      "text/plain": [
       "array(['Happy', 'Relaxed', 'Angry', 'Sad'], dtype=object)"
      ]
     },
     "execution_count": 19,
     "metadata": {},
     "output_type": "execute_result"
    }
   ],
   "source": [
    "all_songs = pd.read_csv(\"all_songs_with_labels.csv\")\n",
    "all_songs = all_songs[pd.notnull(all_songs['mood_1'])]\n",
    "all_songs.mood_1.unique()\n",
    "print(\"Songs without NaN label values\", len(all_songs.index))\n",
    "\n",
    "all_songs = all_songs[all_songs.mood_1 != 'Other']\n",
    "print(\"Songs without Other label values\", len(all_songs.index))\n",
    "all_songs.mood_1.unique()\n",
    "\n",
    "#Excited = happy\n",
    "#Sensual = Relaxed\n",
    "#Rowdy = Angry\n",
    "#Cool = Relaxed\n",
    "#Defiant = Angry\n",
    "#Energizing = happy\n",
    "#Urgent = Angry\n",
    "#Sophisticated = Relaxed\n",
    "#Yearning = Sad\n",
    "#Melancholy = Sad\n",
    "#Brooding = Sad\n",
    "#Lively = happy\n",
    "#Empowering = happy\n",
    "#Aggressive = angry\n",
    "#Upbeat = Happy\n",
    "#Somber = Sad\n",
    "#Peaceful = Relaxed\n",
    "#Gritty = Sad\n",
    "#Fiery = Angry\n",
    "#Easygoing = Relaxed\n",
    "#Romantic = happy\n",
    "#Sentimental = sad\n",
    "#Stirring = sad\n",
    "#Tender = relaxed\n",
    "#Serious = sad\n",
    "\n",
    "all_songs.mood_1[all_songs.mood_1 == 'Excited'] = 'Happy' \n",
    "all_songs.mood_1[all_songs.mood_1 == 'Sensual'] = 'Relaxed'\n",
    "all_songs.mood_1[all_songs.mood_1 == 'Rowdy'] = 'Angry'\n",
    "all_songs.mood_1[all_songs.mood_1 == 'Cool'] = 'Relaxed'\n",
    "all_songs.mood_1[all_songs.mood_1 == 'Defiant'] = 'Angry'\n",
    "all_songs.mood_1[all_songs.mood_1 == 'Energizing'] = 'Happy'\n",
    "all_songs.mood_1[all_songs.mood_1 == 'Urgent'] = 'Angry'\n",
    "all_songs.mood_1[all_songs.mood_1 == 'Sophisticated'] = 'Relaxed'\n",
    "all_songs.mood_1[all_songs.mood_1 == 'Yearning'] = 'Sad'\n",
    "all_songs.mood_1[all_songs.mood_1 == 'Melancholy'] = 'Sad'\n",
    "all_songs.mood_1[all_songs.mood_1 == 'Brooding'] = 'Sad'\n",
    "all_songs.mood_1[all_songs.mood_1 == 'Lively'] = 'Happy'\n",
    "all_songs.mood_1[all_songs.mood_1 == 'Empowering'] = 'Happy'\n",
    "all_songs.mood_1[all_songs.mood_1 == 'Aggressive'] = 'Angry'\n",
    "all_songs.mood_1[all_songs.mood_1 == 'Upbeat'] = 'Happy'\n",
    "all_songs.mood_1[all_songs.mood_1 == 'Somber'] = 'Sad'\n",
    "all_songs.mood_1[all_songs.mood_1 == 'Peaceful'] = 'Relaxed'\n",
    "all_songs.mood_1[all_songs.mood_1 == 'Gritty'] = 'Sad'\n",
    "all_songs.mood_1[all_songs.mood_1 == 'Fiery'] = 'Angry'\n",
    "all_songs.mood_1[all_songs.mood_1 == 'Easygoing'] = 'Relaxed'\n",
    "all_songs.mood_1[all_songs.mood_1 == 'Romantic'] = 'Happy'\n",
    "all_songs.mood_1[all_songs.mood_1 == 'Sentimental'] = 'Sad'\n",
    "all_songs.mood_1[all_songs.mood_1 == 'Stirring'] = 'Sad'\n",
    "all_songs.mood_1[all_songs.mood_1 == 'Tender'] = 'Relaxed'\n",
    "all_songs.mood_1[all_songs.mood_1 == 'Serious'] = 'Sad'\n",
    "\n",
    "all_songs.mood_1.unique()"
   ]
  },
  {
   "cell_type": "code",
   "execution_count": 21,
   "metadata": {
    "collapsed": true
   },
   "outputs": [],
   "source": [
    "#all_songs.to_csv(\"all_songs_with_modified_labels.csv\", index=False)"
   ]
  }
 ],
 "metadata": {
  "kernelspec": {
   "display_name": "Python 3",
   "language": "python",
   "name": "python3"
  },
  "language_info": {
   "codemirror_mode": {
    "name": "ipython",
    "version": 3
   },
   "file_extension": ".py",
   "mimetype": "text/x-python",
   "name": "python",
   "nbconvert_exporter": "python",
   "pygments_lexer": "ipython3",
   "version": "3.6.2"
  }
 },
 "nbformat": 4,
 "nbformat_minor": 2
}
